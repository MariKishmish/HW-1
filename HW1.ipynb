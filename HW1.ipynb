{
 "cells": [
  {
   "cell_type": "code",
   "execution_count": 3,
   "metadata": {},
   "outputs": [
    {
     "name": "stdout",
     "output_type": "stream",
     "text": [
      "кошка\n",
      "ш\n"
     ]
    }
   ],
   "source": [
    "s = input()\n",
    "middle = len(s)/2\n",
    "if middle % 2 == 0:\n",
    " print(s[int(middle)-1:int(middle)+1])\n",
    "else:\n",
    "  print(s[int(middle)])"
   ]
  },
  {
   "cell_type": "code",
   "execution_count": null,
   "metadata": {},
   "outputs": [],
   "source": []
  },
  {
   "cell_type": "code",
   "execution_count": 5,
   "metadata": {},
   "outputs": [
    {
     "name": "stdout",
     "output_type": "stream",
     "text": [
      "введите число:1\n",
      "введите число:3\n",
      "введите число:6\n",
      "введите число:0\n",
      "10\n"
     ]
    }
   ],
   "source": [
    "b=0\n",
    "while True:\n",
    "    x=int(input('введите число:'))\n",
    "    if x==0:break \n",
    "    else: b+=x\n",
    "print(b)"
   ]
  },
  {
   "cell_type": "code",
   "execution_count": 9,
   "metadata": {},
   "outputs": [
    {
     "name": "stdout",
     "output_type": "stream",
     "text": [
      "Alex и Joan идеальная пара.\n"
     ]
    }
   ],
   "source": [
    "boys = ['Max', 'Alex', 'Bil', 'Arthur', 'James', 'Kris', 'Piter', 'Ivan']\n",
    "boys_a=sorted(boys)\n",
    "girls = ['Mari', 'Liza', 'Joan', 'Zoi', 'Trisha', 'Sara']\n",
    "sorted(girls)\n",
    "girls_a=sorted(girls)\n",
    "couple = zip(boys_a, girls_a)\n",
    "list(couple)\n",
    "print(f\"{boys_a[0]} и {girls_a[0]} идеальная пара.\")\n"
   ]
  },
  {
   "cell_type": "code",
   "execution_count": 10,
   "metadata": {},
   "outputs": [
    {
     "name": "stdout",
     "output_type": "stream",
     "text": [
      "Thailand средняя температура 23.9 C\n",
      "Germany средняя температура 13.8 C\n",
      "Russia средняя температура 3.7 C\n",
      "Poland средняя температура 12.0 C\n"
     ]
    }
   ],
   "source": [
    "countries_temperature = [\n",
    "    ['Thailand', [75.2, 77, 78.8, 73.4, 68, 75.2, 77]],\n",
    "    ['Germany', [57.2, 55.4, 59, 59, 53.6]],\n",
    "    ['Russia', [35.6, 37.4, 39.2, 41, 42.8, 39.2, 35.6]],\n",
    "    ['Poland', [50, 50, 53.6, 57.2, 55.4, 55.4]]\n",
    "]\n",
    "\n",
    "for b in countries_temperature:\n",
    "    print(b[0], 'средняя температура', round((sum(b[1]) / len(b[1]) - 32) / 1.8, 1), 'C')"
   ]
  },
  {
   "cell_type": "code",
   "execution_count": 4,
   "metadata": {},
   "outputs": [
    {
     "name": "stdout",
     "output_type": "stream",
     "text": [
      "Внимание! Кто-то может остаться без пары! Никого не знакомим!)\n"
     ]
    }
   ],
   "source": [
    "boys = ['Max', 'Alex', 'Bil', 'Arthur', 'James', 'Kris', 'Piter', 'Ivan']\n",
    "boys_a=sorted(boys)\n",
    "girls = ['Mari', 'Liza', 'Joan', 'Zoi', 'Trisha', 'Sara']\n",
    "girls_a=sorted(girls)\n",
    "couple = zip(boys_a, girls_a)\n",
    "if len(boys)!=len(girls):\n",
    "  print (\"Внимание! Кто-то может остаться без пары! Никого не знакомим!)\")\n",
    "else:\n",
    " for boys_a_, girls_a_ in zip(boys_a, girls_a):\n",
    "    print(f\"{boys_a_} и {girls_a_} идеальная пара.\")"
   ]
  },
  {
   "cell_type": "code",
   "execution_count": 5,
   "metadata": {},
   "outputs": [
    {
     "name": "stdout",
     "output_type": "stream",
     "text": [
      "Alex и Joan идеальная пара.\n",
      "Arthur и Liza идеальная пара.\n",
      "Bil и Mari идеальная пара.\n",
      "James и Sara идеальная пара.\n",
      "Kris и Trisha идеальная пара.\n",
      "Max и Zoi идеальная пара.\n"
     ]
    }
   ],
   "source": [
    "boys = ['Max', 'Alex', 'Bil', 'Arthur', 'James', 'Kris']\n",
    "boys_a=sorted(boys)\n",
    "girls = ['Mari', 'Liza', 'Joan', 'Zoi', 'Trisha', 'Sara']\n",
    "girls_a=sorted(girls)\n",
    "couple = zip(boys_a, girls_a)\n",
    "if len(boys)!=len(girls):\n",
    "  print (\"Внимание! Кто-то может остаться без пары! Никого не знакомим!)\")\n",
    "else:\n",
    " for boys_a_, girls_a_ in zip(boys_a, girls_a):\n",
    "    print(f\"{boys_a_} и {girls_a_} идеальная пара.\")"
   ]
  },
  {
   "cell_type": "code",
   "execution_count": null,
   "metadata": {},
   "outputs": [],
   "source": []
  }
 ],
 "metadata": {
  "kernelspec": {
   "display_name": "Python 3",
   "language": "python",
   "name": "python3"
  },
  "language_info": {
   "codemirror_mode": {
    "name": "ipython",
    "version": 3
   },
   "file_extension": ".py",
   "mimetype": "text/x-python",
   "name": "python",
   "nbconvert_exporter": "python",
   "pygments_lexer": "ipython3",
   "version": "3.8.5"
  }
 },
 "nbformat": 4,
 "nbformat_minor": 4
}
