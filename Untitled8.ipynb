{
 "cells": [
  {
   "cell_type": "code",
   "execution_count": 12,
   "metadata": {
    "colab": {
     "base_uri": "https://localhost:8080/",
     "height": 128
    },
    "id": "TNF-D1sTgSWv",
    "outputId": "e6ecc125-5b2c-41f0-9da7-ebcdd2984f81"
   },
   "outputs": [],
   "source": [
    "documents = [\n",
    "    {'type': 'passport', 'number': '2207 876234', 'name': 'Василий Гупкин'},\n",
    "    {'type': 'invoice', 'number': '11-2', 'name': 'Геннадий Покемонов'},\n",
    "    {'type': 'insurance', 'number': '10006', 'name': 'Аристарх Павлов'}\n",
    "]\n",
    "\n",
    "directories = {\n",
    "'1': ['2207 876234', '11-2'],\n",
    "'2': ['10006'],\n",
    "'3': []\n",
    "}\n",
    "#  Пользователь по команде “p” может узнать владельца документа по его номеру \n",
    "def product(documnet_number):\n",
    "    for x in documents:\n",
    "        if x['number'] == documnet_number:\n",
    "            return x['name']  #return ('Владелец документа', x['name'])\n",
    "    return 'Документ не найден'\n",
    "#  Пользователь по команде “s” может по номеру документа узнать на какой полке он хранится\n",
    "def shelf_number(documnet_number):\n",
    "    for b in directories:\n",
    "        if documnet_number in directories[b]: \n",
    "            return b\n",
    "    return 'Документ не найден в базе'\n",
    "#Пользователь по команде “l” может увидеть полную информацию по всем документам\n",
    "def all_information(): \n",
    "    for document_number in documents:  # в цикле проходимся по каждому элементу documents \n",
    "        dir = list(filter(lambda e: document_number['number'] in e[1], directories.items()))[0]  #каждому элементу directories подбираем соответствие из documents\n",
    "        document_number['directory'] = dir[0]\n",
    "        print('№:', document_number['number'],',','тип:', document_number['type'],',', 'владелец:', document_number['name'],',','полка хранения:', document_number['directory']) \n",
    "#Пользователь по команде “as” может добавить новую полку\n",
    "def add_shelf(directories):\n",
    "    shelf_number = input('Введите номер полки: ')\n",
    "    if shelf_number in directories:\n",
    "        return('Номер полки уже существует')\n",
    "    else:\n",
    "        directories[shelf_number] =  [] #как добавить в словарь ключ\n",
    "        print('Добавляю новую полку')\n",
    "        return (directories)\n",
    "#Пользователь по команде “ds” может удалить существующую полку из данных (только если она пустая)\n",
    "def delet_shelf(directories):\n",
    "    shelf_number = input('Введите номер полки: ')\n",
    "    if shelf_number in directories and len(directories[shelf_number]) <= 0:\n",
    "        del directories[shelf_number]\n",
    "        return(f'Полка удалена. Текущий перечень полок: ')\n",
    "        #print(list(directories.keys()))\n",
    "    elif shelf_number in directories and len(directories[shelf_number]) > 0:\n",
    "        return(f'На полке есть документы, удалите их перед удалением полки. Текущий перечень полок: ')   \n",
    "    elif shelf_number not in directories:\n",
    "        return(f'Такой полки не существует.Текущий перечень полок: ')\n",
    "\n",
    "\n",
    "   "
   ]
  },
  {
   "cell_type": "code",
   "execution_count": null,
   "metadata": {
    "colab": {
     "base_uri": "https://localhost:8080/"
    },
    "id": "OEEslKqCml9y",
    "outputId": "32048ff0-c3d0-499d-92ae-c39a0b82f379"
   },
   "outputs": [],
   "source": [
    "\n"
   ]
  },
  {
   "cell_type": "code",
   "execution_count": 15,
   "metadata": {
    "colab": {
     "base_uri": "https://localhost:8080/"
    },
    "id": "YNv1kN-_g5G2",
    "outputId": "c77d8ec3-1008-4086-c9d6-33969693b447"
   },
   "outputs": [
    {
     "name": "stdout",
     "output_type": "stream",
     "text": [
      "Введите командуds\n",
      "Введите номер полки: 45545\n",
      "Такой полки не существует.Текущий перечень полок: \n",
      "['1', '2', '3']\n"
     ]
    }
   ],
   "source": [
    "def main(directories):\n",
    "    while True:\n",
    "        user_input = input('Введите команду')\n",
    "        if user_input == 'p':\n",
    "            document_number = input('Введите номер документа: ' '')\n",
    "            print(product(document_number))\n",
    "        elif user_input == 's':\n",
    "            document_number = input('Введите номер документа: ' '')\n",
    "            print(shelf_number(document_number))\n",
    "        elif user_input == 'l':\n",
    "            print(all_information())\n",
    "        elif user_input == 'as':\n",
    "            print(add_shelf(directories))\n",
    "        elif user_input == 'ds':\n",
    "            print(delet_shelf(directories)), print(list(directories.keys()))\n",
    "                \n",
    "        break\n",
    "main(directories)"
   ]
  },
  {
   "cell_type": "code",
   "execution_count": null,
   "metadata": {},
   "outputs": [],
   "source": []
  },
  {
   "cell_type": "code",
   "execution_count": null,
   "metadata": {},
   "outputs": [],
   "source": []
  }
 ],
 "metadata": {
  "colab": {
   "collapsed_sections": [],
   "name": "Untitled8.ipynb",
   "provenance": []
  },
  "kernelspec": {
   "display_name": "Python 3",
   "language": "python",
   "name": "python3"
  },
  "language_info": {
   "codemirror_mode": {
    "name": "ipython",
    "version": 3
   },
   "file_extension": ".py",
   "mimetype": "text/x-python",
   "name": "python",
   "nbconvert_exporter": "python",
   "pygments_lexer": "ipython3",
   "version": "3.8.5"
  }
 },
 "nbformat": 4,
 "nbformat_minor": 1
}
