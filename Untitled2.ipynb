{
 "cells": [
  {
   "cell_type": "code",
   "execution_count": 20,
   "metadata": {},
   "outputs": [
    {
     "name": "stdout",
     "output_type": "stream",
     "text": [
      "Фраза 2 длиннее фразы 1\n"
     ]
    }
   ],
   "source": [
    "phrase_1 = 'В Сибирском федеральном округе почти во всех регионах желтый уровень погодной опасности из-за низких температур'\n",
    "phrase_2 = 'В Сибирском федеральном округе почти во всех регионах желтый уровень погодной опасности из-за низких температур, в Красноярском крае до -47°C.'\n",
    "if len(phrase_1)>len(phrase_2):\n",
    "  print('Фраза 1 длиннее фразы 2')\n",
    "elif len(phrase_1)<len(phrase_2):\n",
    "  print('Фраза 2 длиннее фразы 1')\n",
    "else: \n",
    "  print('Фразы равной длины')"
   ]
  },
  {
   "cell_type": "code",
   "execution_count": 12,
   "metadata": {},
   "outputs": [
    {
     "name": "stdout",
     "output_type": "stream",
     "text": [
      "Фраза 1 длиннее фразы 2\n"
     ]
    }
   ],
   "source": [
    "phrase_1 = 'В Сибирском федеральном округе почти во всех регионах желтый уровень погодной опасности из-за низких температур'\n",
    "phrase_2 = 'В Сибирском федеральном округе почти во всех регионах желтый уровень погодной опасности.'\n",
    "if len(phrase_1)>len(phrase_2):\n",
    "  print('Фраза 1 длиннее фразы 2')\n",
    "elif len(phrase_1)<len(phrase_2):\n",
    "  print('Фраза 2 длиннее фразы 1')\n",
    "else: \n",
    "  print('Фразы равной длины')"
   ]
  },
  {
   "cell_type": "code",
   "execution_count": 27,
   "metadata": {},
   "outputs": [
    {
     "name": "stdout",
     "output_type": "stream",
     "text": [
      "Фразы равной длины\n"
     ]
    }
   ],
   "source": [
    "phrase_1 = 'В Сибирском федеральном округе почти во всех регионах желтый уровень погодной опасности.'\n",
    "phrase_2 = 'В Сибирском федеральном округе почти во всех регионах желтый уровень погодной опасности.'\n",
    "if len(phrase_1)>len(phrase_2):\n",
    "    print('Фраза 1 длиннее фразы 2')\n",
    "elif len(phrase_1)<len(phrase_2):\n",
    "    print('Фраза 2 длиннее фразы 1')\n",
    "else: \n",
    "    print('Фразы равной длины')"
   ]
  },
  {
   "cell_type": "code",
   "execution_count": 12,
   "metadata": {},
   "outputs": [
    {
     "name": "stdout",
     "output_type": "stream",
     "text": [
      "Високосный год\n"
     ]
    }
   ],
   "source": [
    "x = 2000\n",
    "if x % 4 == 0 and x % 100 != 0 or x % 400 == 0:\n",
    "    print('Високосный год')\n",
    "else:\n",
    "    print('Обычный год')"
   ]
  },
  {
   "cell_type": "code",
   "execution_count": 6,
   "metadata": {},
   "outputs": [
    {
     "name": "stdout",
     "output_type": "stream",
     "text": [
      "введите день12\n",
      "введите месяцавгуст\n",
      "Знак зодиака:Лев\n"
     ]
    }
   ],
   "source": [
    "date = int(input('введите день'))\n",
    "month = input('введите месяц')\n",
    "if (date >= 21 and date <= 31 and month == 'март') or (month == 'апрель' and date >=1 and date <=19):\n",
    "    print(\"Знак зодиака:Овен\") \n",
    "elif (date >= 21 and date <= 31 and month == 'апрель') or (month == 'май' and date >=1 and date <=19):\n",
    "    print(\"Знак зодиака:Телец\") \n",
    "elif (date >= 21 and date <= 31 and month == 'май') or (month == 'июнь' and date >=1 and date <=19):\n",
    "    print(\"Знак зодиака:Близнецы\") \n",
    "elif (date >= 21 and date <= 31 and month == 'июнь') or (month == 'июль' and date >=1 and date <=19):\n",
    "    print(\"Знак зодиака:Рак\") \n",
    "elif (date >= 21 and date <= 31 and month == 'июль') or (month == 'август' and date >=1 and date <=19):\n",
    "    print(\"Знак зодиака:Лев\") \n",
    "elif (date >= 21 and date <= 31 and month == 'август') or (month == 'сентябрь' and date >=1 and date <=19):\n",
    "    print(\"Знак зодиака:Дева\") \n",
    "elif (date >= 21 and date <= 31 and month == 'сентябрь') or (month == 'октябрь' and date >=1 and date <=19):\n",
    "    print(\"Знак зодиака:Весы\") \n",
    "elif (date >= 21 and date <= 31 and month == 'октябрь') or (month == 'ноябрь' and date >=1 and date <=19):\n",
    "    print(\"Знак зодиака:Скорпион\") \n",
    "elif (date >= 21 and date <= 31 and month == 'ноябрь') or (month == 'декабрь' and date >=1 and date <=19):\n",
    "    print(\"Знак зодиака:Стрелец\") \n",
    "elif (date >= 21 and date <= 31 and month == 'декабрь') or (month == 'январь' and date >=1 and date <=19):\n",
    "    print(\"Знак зодиака:Козерог\") \n",
    "elif (date >= 21 and date <= 31 and month == 'январь') or (month == 'февраль' and date >=1 and date <=19):\n",
    "    print(\"Знак зодиака:Водолей\") \n",
    "elif (date >= 21 and date <= 31 and month == 'февраль') or (month == 'март' and date >=1 and date <=19):\n",
    "    print(\"Знак зодиака:Рыбы\") \n",
    "\n",
    "\n"
   ]
  },
  {
   "cell_type": "code",
   "execution_count": 18,
   "metadata": {},
   "outputs": [
    {
     "name": "stdout",
     "output_type": "stream",
     "text": [
      "Упаковка для лыж\n"
     ]
    }
   ],
   "source": [
    "width = 51\n",
    "length = 2050\n",
    "height = 45\n",
    "if (length>2000):\n",
    "    print('Упаковка для лыж')\n",
    "elif (width<15 and length<15 and height<15):\n",
    "    print('Коробка №1')\n",
    "elif (15<width<50 or 15<length<50 or 15<height<50):\n",
    "    print('Коробка №2')\n",
    "else:\n",
    "    print('Стандартная коробка №3')"
   ]
  },
  {
   "cell_type": "code",
   "execution_count": null,
   "metadata": {},
   "outputs": [],
   "source": []
  }
 ],
 "metadata": {
  "kernelspec": {
   "display_name": "Python 3",
   "language": "python",
   "name": "python3"
  },
  "language_info": {
   "codemirror_mode": {
    "name": "ipython",
    "version": 3
   },
   "file_extension": ".py",
   "mimetype": "text/x-python",
   "name": "python",
   "nbconvert_exporter": "python",
   "pygments_lexer": "ipython3",
   "version": "3.8.5"
  }
 },
 "nbformat": 4,
 "nbformat_minor": 4
}
