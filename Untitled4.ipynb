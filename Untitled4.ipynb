{
 "cells": [
  {
   "cell_type": "code",
   "execution_count": 12,
   "metadata": {},
   "outputs": [
    {
     "name": "stdout",
     "output_type": "stream",
     "text": [
      "Введите команду: p\n",
      "Введите номер документа: 10006\n",
      "Аристарх Павлов\n"
     ]
    }
   ],
   "source": [
    "documents = [\n",
    "    {'type': 'passport', 'number': '2207 876234', 'name': 'Василий Гупкин'},\n",
    "    {'type': 'invoice', 'number': '11-2', 'name': 'Геннадий Покемонов'},\n",
    "    {'type': 'insurance', 'number': '10006', 'name': 'Аристарх Павлов'}\n",
    "]\n",
    "\n",
    "directories = {\n",
    "'1': ['2207 876234', '11-2'],\n",
    "'2': ['10006'],\n",
    "'3': []\n",
    "}\n",
    " \n",
    "def p(documnet_number):\n",
    "    for x in documents:\n",
    "        if x['number'] == documnet_number:\n",
    "            return x['name']  #return ('Владелец документа', x['name'])\n",
    "    return 'Документ не найден'\n",
    "def s(documnet_number):\n",
    "    for b in directories:\n",
    "        if documnet_number in directories[b]: \n",
    "            return b\n",
    "    return 'Документ не найден'\n",
    "user_input = input('Введите команду: ' '')\n",
    "if user_input == 'p':\n",
    "    document_number = input('Введите номер документа: ' '')\n",
    "    print(p(document_number))\n",
    "if user_input == 's':\n",
    "    document_number = input('Введите номер документа: ' '')\n",
    "    print(s(document_number))"
   ]
  },
  {
   "cell_type": "code",
   "execution_count": 17,
   "metadata": {},
   "outputs": [
    {
     "name": "stdout",
     "output_type": "stream",
     "text": [
      "Введите команду: l\n",
      "№: 2207 876234 , тип: passport , владелец: Василий Гупкин , полка хранения: 1\n",
      "№: 11-2 , тип: invoice , владелец: Геннадий Покемонов , полка хранения: 1\n",
      "№: 10006 , тип: insurance , владелец: Аристарх Павлов , полка хранения: 2\n",
      "None\n"
     ]
    }
   ],
   "source": [
    "#Пункт 3. Пользователь по команде “l” может увидеть полную информацию по всем документам\n",
    "documents = [\n",
    "    {'type': 'passport', 'number': '2207 876234', 'name': 'Василий Гупкин'},\n",
    "    {'type': 'invoice', 'number': '11-2', 'name': 'Геннадий Покемонов'},\n",
    "    {'type': 'insurance', 'number': '10006', 'name': 'Аристарх Павлов'}\n",
    "]\n",
    "\n",
    "directories = {\n",
    "'1': ['2207 876234', '11-2'],\n",
    "'2': ['10006'],\n",
    "'3': []\n",
    "}\n",
    "def l(): \n",
    "    for document_number in documents:  # в цикле проходимся по каждому элементу documents \n",
    "        dir = list(filter(lambda e: document_number['number'] in e[1], directories.items()))[0]  #каждому элементу directories подбираем соответствие из documents\n",
    "        document_number['directory'] = dir[0]\n",
    "        print('№:', document_number['number'],',','тип:', document_number['type'],',', 'владелец:', document_number['name'],',','полка хранения:', document_number['directory']) \n",
    "user_input = input('Введите команду: ' '')\n",
    "if user_input == 'l':\n",
    "        print(l()) \n",
    "      "
   ]
  },
  {
   "cell_type": "code",
   "execution_count": 4,
   "metadata": {},
   "outputs": [
    {
     "name": "stdout",
     "output_type": "stream",
     "text": [
      "Введите команду: ad\n",
      "Введите номер полки: 4444\n",
      "Добавляю новую полку\n",
      "Введите данные для полки: 45823\n",
      "{'1': ['2207 876234', '11-2'], '2': ['10006'], '3': [], '4444': '45823'}\n"
     ]
    }
   ],
   "source": [
    "#Пункт 4. Пользователь по команде “as” может добавить новую полку\n",
    "documents = [\n",
    "    {'type': 'passport', 'number': '2207 876234', 'name': 'Василий Гупкин'},\n",
    "    {'type': 'invoice', 'number': '11-2', 'name': 'Геннадий Покемонов'},\n",
    "    {'type': 'insurance', 'number': '10006', 'name': 'Аристарх Павлов'}\n",
    "]\n",
    "\n",
    "directories = {\n",
    "'1': ['2207 876234', '11-2'],\n",
    "'2': ['10006'],\n",
    "'3': []\n",
    "}\n",
    "\n",
    "def ad(directories):\n",
    "    shelf_number = input('Введите номер полки: ')\n",
    "    if shelf_number in directories:\n",
    "        return('Номер полки уже существует')\n",
    "    else:\n",
    "        print('Добавляю новую полку')\n",
    "        directories[shelf_number] = input('Введите данные для полки: ') #как добавить список, при указании типа данных list разбивает число на отдельные цифры\n",
    "        return (directories)\n",
    "user_input = input('Введите команду: ' '')\n",
    "if user_input == 'ad':\n",
    "     print(ad(directories))\n"
   ]
  },
  {
   "cell_type": "code",
   "execution_count": 66,
   "metadata": {},
   "outputs": [
    {
     "name": "stdout",
     "output_type": "stream",
     "text": [
      "Введите команду: ds\n",
      "Введите номер полки: 1\n",
      "Полка удалена. Текущий перечень полок: (directories.keys())\n"
     ]
    }
   ],
   "source": [
    "#Пункт 5. Пользователь по команде “ds” может удалить существующую полку из данных (если она пустая)\n",
    "directories = {\n",
    "    '1': ['2207 876234', '11-2', '5455 028765'],\n",
    "    '2': ['10006', '5400 028765', '5455 002299'],\n",
    "    '3': []\n",
    "}\n",
    "def ds(directories):\n",
    "    if len(directories[shelf]) <= 0:\n",
    "        del(directories[shelf])\n",
    "    return 'Полка удалена. Текущий перечень полок: (directories.keys())' #как вывести список ключей?\n",
    "    if len(directories[shelf]) > 0:\n",
    "        return 'На полке есть документы, удалите их перед удалением полки'\n",
    "    if keyes \n",
    "user_input = input('Введите команду: ' '')\n",
    "if user_input == 'ds':\n",
    "    shelf = input('Введите номер полки: ')\n",
    "print(ds(directories))\n",
    "#добавить проверку на существование полки"
   ]
  },
  {
   "cell_type": "code",
   "execution_count": null,
   "metadata": {},
   "outputs": [],
   "source": []
  },
  {
   "cell_type": "code",
   "execution_count": null,
   "metadata": {},
   "outputs": [],
   "source": []
  },
  {
   "cell_type": "code",
   "execution_count": null,
   "metadata": {},
   "outputs": [],
   "source": []
  }
 ],
 "metadata": {
  "kernelspec": {
   "display_name": "Python 3",
   "language": "python",
   "name": "python3"
  },
  "language_info": {
   "codemirror_mode": {
    "name": "ipython",
    "version": 3
   },
   "file_extension": ".py",
   "mimetype": "text/x-python",
   "name": "python",
   "nbconvert_exporter": "python",
   "pygments_lexer": "ipython3",
   "version": "3.8.5"
  }
 },
 "nbformat": 4,
 "nbformat_minor": 4
}
